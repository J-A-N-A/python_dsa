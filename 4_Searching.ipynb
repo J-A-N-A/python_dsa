{
  "nbformat": 4,
  "nbformat_minor": 0,
  "metadata": {
    "colab": {
      "name": "4.Searching.ipynb",
      "provenance": [],
      "collapsed_sections": [],
      "authorship_tag": "ABX9TyNyTl+tIZnZ0fYFY1mQlmMy",
      "include_colab_link": true
    },
    "kernelspec": {
      "name": "python3",
      "display_name": "Python 3"
    },
    "language_info": {
      "name": "python"
    }
  },
  "cells": [
    {
      "cell_type": "markdown",
      "metadata": {
        "id": "view-in-github",
        "colab_type": "text"
      },
      "source": [
        "<a href=\"https://colab.research.google.com/github/J-A-N-A/python_dsa/blob/main/4_Searching.ipynb\" target=\"_parent\"><img src=\"https://colab.research.google.com/assets/colab-badge.svg\" alt=\"Open In Colab\"/></a>"
      ]
    },
    {
      "cell_type": "markdown",
      "source": [
        "## SEARCHING ALGORTHMS\n",
        "\n",
        "The word Searching 🔍 is pretty understandable by itself. So, to broadly categorize, there are two categories of search algorithms you’ll need to know right away: Linear Search and Binary Search."
      ],
      "metadata": {
        "id": "wd2-B-S1z6iX"
      }
    },
    {
      "cell_type": "markdown",
      "source": [
        "##**LINEAR SEARCH** <BR>\n",
        "time complexity : O(N) <BR>\n",
        "\n",
        "Notes to remember 📝:\n",
        "\n",
        "\n",
        "\n",
        "Linear search (also known as sequential search) sequentially checks each element of the given list for the required value until a match is found or until all the elements have been searched. \n",
        "\n",
        "\n",
        "\n",
        "Pseudo Code of Linear Search: <BR>\n",
        "Set i to 1 <BR>\n",
        "if i > n, go to step 7 <BR>\n",
        "if Arr[i] == element, go to step 6 <BR>\n",
        "Set i to i + 1 <BR>\n",
        "Go to step 2 <BR>\n",
        "Print element found at index i and go to step 8<BR>\n",
        "Print element not found<BR>\n",
        "Exit"
      ],
      "metadata": {
        "id": "ve6xFV9-0tZB"
      }
    },
    {
      "cell_type": "code",
      "execution_count": null,
      "metadata": {
        "colab": {
          "base_uri": "https://localhost:8080/"
        },
        "id": "JuWU8bUbziUB",
        "outputId": "d7983335-dc4b-4c4e-94a9-7b212fd046a6"
      },
      "outputs": [
        {
          "output_type": "stream",
          "name": "stdout",
          "text": [
            "not found\n",
            "not found\n",
            "not found\n",
            "not found\n",
            "element found at index: 4\n",
            "not found\n",
            "not found\n",
            "not found\n"
          ]
        }
      ],
      "source": [
        "#LETS WRITE A EXAMPLE FOR LINER SEARCH\n",
        "#time complexity o(n)\n",
        "\n",
        "def lsearch(arr,k):\n",
        "  for i in range(len(arr)):\n",
        "    if arr[i]==k:\n",
        "      print(\"element found at index:\",arr.index(i)+1)\n",
        "    else:\n",
        "      print(\"not found\")\n",
        "#main code\n",
        "arr=[1,2,3,4,5,6,7,8]\n",
        "key=5\n",
        "lsearch(arr,key)"
      ]
    },
    {
      "cell_type": "markdown",
      "source": [
        "## **BINARY SEARCH**\n",
        "In an ordered list, it makes perfect sense to search from the start till the end. But, let's say you have an ordered list (list which is sorted in ascending/descending order) - 1 5 7 10 24 72 96. Linear search still doesn't take advantage of the fact that list is sorted, it still blindly searches for an element starting from the first element, increasing the complexity as the list grows.\n",
        "\n",
        "\n",
        "\n",
        "In simple, we can conclude that Linear Search is good especially when input size is small but it’s sluggish when the input is relatively large. That's where Binary Search comes into the picture & takes advantage of the situation.<BR>\n",
        "🛑 Note: Binary Search follows Divide & Conquer design paradigm. Observe while we code along."
      ],
      "metadata": {
        "id": "9lUJJJUv3KlB"
      }
    },
    {
      "cell_type": "code",
      "source": [
        "#EXAMPLE CODE FOR BINARY SEARCH \n",
        "#time complexity : \n",
        "def bsearch(arr,key):\n",
        "  low=0\n",
        "  high=len(arr)-1\n",
        "  mid=0\n",
        "  while(low<=high):\n",
        "    mid=(low+high)//2\n",
        "    if arr[mid]<key:\n",
        "      low=mid+1\n",
        "    elif arr[mid]>key:\n",
        "      high=mid-1\n",
        "    else:\n",
        "      return mid\n",
        "  return -1\n",
        "\n",
        "arr=[1,2,3,4,5,6,7,8]\n",
        "key=4\n",
        "print(bsearch(arr,key))"
      ],
      "metadata": {
        "colab": {
          "base_uri": "https://localhost:8080/"
        },
        "id": "veJ-2Avsc3px",
        "outputId": "17bdd557-4212-4529-c6a2-8db478af26ca"
      },
      "execution_count": 8,
      "outputs": [
        {
          "output_type": "stream",
          "name": "stdout",
          "text": [
            "3\n"
          ]
        }
      ]
    },
    {
      "cell_type": "markdown",
      "source": [
        "Notes to remember 📝:\n",
        "\n",
        "\n",
        "\n",
        "Binary Search is based on Divide and Conquer Technique. It repeatedly divides the problem into two sub-problems that may contain the item. It discards the sub-problems on the condition that the list of items are sorted. It continues halving the subproblems until it finds the item or it narrows down the list to a single item.<br>\n",
        "\n",
        "Pseudocode for binary search:\n",
        "1. Let A be the list of items of size N and k is the key item.\n",
        "2. Let min = 1 and max = N.\n",
        "3. Repeat step 4, 5, 6 TILL min <= max.\n",
        "4. Let mid = (min + max) / 2.\n",
        "5. If A[mid] ===  k THEN return 'Item Found.'\n",
        "6. IF A[mid] < key THEN SET min = mid + 1 else SET max = mid - 1. \n",
        "7. return 'Item not found'."
      ],
      "metadata": {
        "id": "dLiEZr07fcwi"
      }
    },
    {
      "cell_type": "markdown",
      "source": [
        "Let's just quickly summarize and wrap up the two searching algorithms.\n",
        "\n",
        "\n",
        "\n",
        "👉 Binary Search has complexity O(log n) and Linear search has complexity O(n)\n",
        "\n",
        "👉 Binary search is efficient and faster than linear search, but it is mandatory to sort the list first before performing the search operation. On the other hand, you can implement linear search on both ordered and unordered lists."
      ],
      "metadata": {
        "id": "jRCa4ORzfqh1"
      }
    }
  ]
}