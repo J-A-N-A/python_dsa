{
  "nbformat": 4,
  "nbformat_minor": 0,
  "metadata": {
    "colab": {
      "name": "Binary search tree.ipynb",
      "provenance": [],
      "authorship_tag": "ABX9TyNftWtg0LvGRaNfLLeWNya3",
      "include_colab_link": true
    },
    "kernelspec": {
      "name": "python3",
      "display_name": "Python 3"
    },
    "language_info": {
      "name": "python"
    }
  },
  "cells": [
    {
      "cell_type": "markdown",
      "metadata": {
        "id": "view-in-github",
        "colab_type": "text"
      },
      "source": [
        "<a href=\"https://colab.research.google.com/github/J-A-N-A/python_dsa/blob/main/Binary_search_tree.ipynb\" target=\"_parent\"><img src=\"https://colab.research.google.com/assets/colab-badge.svg\" alt=\"Open In Colab\"/></a>"
      ]
    },
    {
      "cell_type": "code",
      "execution_count": 20,
      "metadata": {
        "colab": {
          "base_uri": "https://localhost:8080/"
        },
        "id": "lS1UeH-LBXM9",
        "outputId": "2d42c497-5ef8-487c-e161-b4ed20fd7f91"
      },
      "outputs": [
        {
          "output_type": "stream",
          "name": "stdout",
          "text": [
            "1 3 6 7 10 98 \n",
            "1 3 7 10 98 "
          ]
        }
      ],
      "source": [
        "#inserting into a BST\n",
        "class BST:\n",
        "  def __init__(self,key):\n",
        "    self.key=key\n",
        "    self.leftchild=None\n",
        "    self.rightchild=None\n",
        "  def insert(self,data):\n",
        "    if self.key is None:\n",
        "      self.key= data\n",
        "      return\n",
        "    if self.key ==data:\n",
        "      return\n",
        "    if self.key > data:\n",
        "      if self.leftchild:\n",
        "        self.leftchild.insert(data)\n",
        "      else:\n",
        "        self.leftchild=BST(data)\n",
        "    else:\n",
        "      if self.rightchild:\n",
        "        self.rightchild.insert(data)\n",
        "      else:\n",
        "        self.rightchild=BST(data)\n",
        "#searching a node in a BST\n",
        "  def search(self,data):\n",
        "    if self.key == data:\n",
        "      print(\"node is found\")\n",
        "      return\n",
        "    if data<self.key:\n",
        "      if self.leftchild:\n",
        "        self.leftchild.search(data)\n",
        "      else:\n",
        "        print(\"node not present in the tree\")\n",
        "    else:\n",
        "      if self.rightchild:\n",
        "        self.rightchild.search(data)\n",
        "      else:\n",
        "        print(\"node not present in the tree\")\n",
        "#preorder traversal\n",
        "  def preorder(self):\n",
        "    print(self.key,end=\" \")\n",
        "    if self.leftchild:\n",
        "      self.leftchild.preorder()\n",
        "    if self.rightchild:\n",
        "      self.rightchild.preorder()\n",
        "#inorder traversal\n",
        "  def inorder(self):\n",
        "    if self.leftchild:\n",
        "      self.leftchild.inorder()\n",
        "    print(self.key,end=\" \")\n",
        "    if self.rightchild:\n",
        "      self.rightchild.inorder()\n",
        "#postorder traversal\n",
        "  def postorder(self):\n",
        "    if self.leftchild:\n",
        "      self.leftchild.postorder()\n",
        "    if self.rightchild:\n",
        "      self.rightchild.postorder()\n",
        "    print(self.key,end=\" \")\n",
        "#delete a node in BST\n",
        "  def delete(self,data):\n",
        "    if self.key is None:\n",
        "      print(\"tree is empty\")\n",
        "      return\n",
        "    if data < self.key:\n",
        "      if self.leftchild:\n",
        "        self.leftchild=self.leftchild.delete(data)\n",
        "      else:\n",
        "        print(\"node is not present\")\n",
        "    elif data > self.key:\n",
        "      if self.rightchild:\n",
        "        self.rightchild =self.rightchild.delete(data)\n",
        "      else:\n",
        "        print(\"given node is not present\")\n",
        "    else:\n",
        "      if self.leftchild is None:\n",
        "        temp = self.rightchild\n",
        "        self=None\n",
        "        return temp\n",
        "      if self.rightchild is None:\n",
        "        temp = self.leftchild\n",
        "        self=None\n",
        "        return temp\n",
        "      node=self.rightchild\n",
        "      while node.leftchild:\n",
        "        node=node.leftchild\n",
        "      self.key=node.key\n",
        "      self.rightchild=self.rightchild.delete(node.key)\n",
        "    return self\n",
        "\n",
        "\n",
        "\n",
        "\n",
        "      \n",
        "root=BST(10)\n",
        "list1=[6,3,1,6,98,3,7]\n",
        "for i in list1:\n",
        "  root.insert(i)\n",
        "#root.search(60)\n",
        "\n",
        "root.inorder()\n",
        "#root.postorder()\n",
        "root.delete(6)\n",
        "print()\n",
        "root.inorder()"
      ]
    }
  ]
}