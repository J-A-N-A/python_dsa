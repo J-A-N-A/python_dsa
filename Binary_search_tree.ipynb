{
  "nbformat": 4,
  "nbformat_minor": 0,
  "metadata": {
    "colab": {
      "name": "Binary search tree.ipynb",
      "provenance": [],
      "authorship_tag": "ABX9TyPtvm/c1qSnOzMPaixQ40vp",
      "include_colab_link": true
    },
    "kernelspec": {
      "name": "python3",
      "display_name": "Python 3"
    },
    "language_info": {
      "name": "python"
    }
  },
  "cells": [
    {
      "cell_type": "markdown",
      "metadata": {
        "id": "view-in-github",
        "colab_type": "text"
      },
      "source": [
        "<a href=\"https://colab.research.google.com/github/J-A-N-A/python_dsa/blob/main/Binary_search_tree.ipynb\" target=\"_parent\"><img src=\"https://colab.research.google.com/assets/colab-badge.svg\" alt=\"Open In Colab\"/></a>"
      ]
    },
    {
      "cell_type": "code",
      "execution_count": 12,
      "metadata": {
        "colab": {
          "base_uri": "https://localhost:8080/"
        },
        "id": "lS1UeH-LBXM9",
        "outputId": "af2710c8-f557-4fb6-c6ed-f3b41d3c417c"
      },
      "outputs": [
        {
          "output_type": "stream",
          "name": "stdout",
          "text": [
            "node not present in the tree\n",
            "1 3 7 6 98 10 "
          ]
        }
      ],
      "source": [
        "#inserting into a BST\n",
        "class BST:\n",
        "  def __init__(self,key):\n",
        "    self.key=key\n",
        "    self.leftchild=None\n",
        "    self.rightchild=None\n",
        "  def insert(self,data):\n",
        "    if self.key is None:\n",
        "      self.key= data\n",
        "      return\n",
        "    if self.key ==data:\n",
        "      return\n",
        "    if self.key > data:\n",
        "      if self.leftchild:\n",
        "        self.leftchild.insert(data)\n",
        "      else:\n",
        "        self.leftchild=BST(data)\n",
        "    else:\n",
        "      if self.rightchild:\n",
        "        self.rightchild.insert(data)\n",
        "      else:\n",
        "        self.rightchild=BST(data)\n",
        "#searching a node in a BST\n",
        "  def search(self,data):\n",
        "    if self.key == data:\n",
        "      print(\"node is found\")\n",
        "      return\n",
        "    if data<self.key:\n",
        "      if self.leftchild:\n",
        "        self.leftchild.search(data)\n",
        "      else:\n",
        "        print(\"node not present in the tree\")\n",
        "    else:\n",
        "      if self.rightchild:\n",
        "        self.rightchild.search(data)\n",
        "      else:\n",
        "        print(\"node not present in the tree\")\n",
        "#preorder traversal\n",
        "  def preorder(self):\n",
        "    print(self.key,end=\" \")\n",
        "    if self.leftchild:\n",
        "      self.leftchild.preorder()\n",
        "    if self.rightchild:\n",
        "      self.rightchild.preorder()\n",
        "#inorder traversal\n",
        "  def inorder(self):\n",
        "    if self.leftchild:\n",
        "      self.leftchild.inorder()\n",
        "    print(self.key,end=\" \")\n",
        "    if self.rightchild:\n",
        "      self.rightchild.inorder()\n",
        "#postorder traversal\n",
        "  def postorder(self):\n",
        "    if self.leftchild:\n",
        "      self.leftchild.postorder()\n",
        "    if self.rightchild:\n",
        "      self.rightchild.postorder()\n",
        "    print(self.key,end=\" \")\n",
        "\n",
        "\n",
        "      \n",
        "root=BST(10)\n",
        "list1=[6,3,1,6,98,3,7]\n",
        "for i in list1:\n",
        "  root.insert(i)\n",
        "root.search(60)\n",
        "#root.inorder()\n",
        "root.postorder()\n"
      ]
    }
  ]
}