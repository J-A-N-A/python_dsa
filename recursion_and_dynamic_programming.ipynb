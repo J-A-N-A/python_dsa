{
  "nbformat": 4,
  "nbformat_minor": 0,
  "metadata": {
    "colab": {
      "name": "recursion and dynamic programming.ipynb",
      "provenance": [],
      "collapsed_sections": [],
      "authorship_tag": "ABX9TyPiYBLm0TEojDBb7rPnRrJL",
      "include_colab_link": true
    },
    "kernelspec": {
      "name": "python3",
      "display_name": "Python 3"
    },
    "language_info": {
      "name": "python"
    }
  },
  "cells": [
    {
      "cell_type": "markdown",
      "metadata": {
        "id": "view-in-github",
        "colab_type": "text"
      },
      "source": [
        "<a href=\"https://colab.research.google.com/github/J-A-N-A/python_dsa/blob/main/recursion_and_dynamic_programming.ipynb\" target=\"_parent\"><img src=\"https://colab.research.google.com/assets/colab-badge.svg\" alt=\"Open In Colab\"/></a>"
      ]
    },
    {
      "cell_type": "markdown",
      "source": [
        "### **RECURSION**\n",
        "Notes to remember 📝:\n",
        "\n",
        "The idea behind recursion;\n",
        " it breaks down a problem into smaller pieces which you either already know the answer to, or can solve by applying the same algorithm to each piece, and then combining the results.\n",
        "Why do we use it? If you have a complex problem that can be broken down into smaller chunks or if you repeatedly wanna perform the same task, then recursion is the right solution.\n",
        "Recursive Function: A recursive function is a function that calls itself until a “base condition” is true."
      ],
      "metadata": {
        "id": "HWSCS_cDO3Je"
      }
    },
    {
      "cell_type": "code",
      "execution_count": 1,
      "metadata": {
        "colab": {
          "base_uri": "https://localhost:8080/"
        },
        "id": "TQfXo9GhOl26",
        "outputId": "f37613cf-f219-4c69-9fac-1a9f130a25f6"
      },
      "outputs": [
        {
          "output_type": "stream",
          "name": "stdout",
          "text": [
            "3\n"
          ]
        }
      ],
      "source": [
        "#EXAMPLE (USE RECURISON TO FIND FIBBONACCI SERIES OF NTH NUMBER)\n",
        "\n",
        "def fibb(n): #fibb function\n",
        "  if n<=1:\n",
        "    return n\n",
        "  else:\n",
        "    return fibb(n-1)+fibb(n-2)\n",
        "\n",
        "#main block\n",
        "print(fibb(4))\n",
        "\n"
      ]
    },
    {
      "cell_type": "markdown",
      "source": [
        "Notes to remember 📝:\n",
        "\n",
        "\n",
        "\n",
        "Recursion adds clarity and reduces the time needed to write and debug code. However, it does come with a few disadvantages.\n",
        "A recursive approach has greater space requirements than an iterative program as each function call will remain in the stack until the base case is reached.\n",
        "It also has greater time requirements because each time the function is called, the stack grows and the final answer is returned when the stack is popped completely.\n",
        "In case of Fibonacci series, recursion will take up more time to complete than iteration. However, if you memoize the result (save the value of each calculation for further use in the recursive call), you can reduce the time complexity."
      ],
      "metadata": {
        "id": "0oYf2wbgQU92"
      }
    },
    {
      "cell_type": "markdown",
      "source": [
        "##**Dynamic Programming Approach.**\n",
        "Notes to remember 📝:\n",
        "\n",
        "\n",
        "\n",
        "Dynamic Programming is mainly an optimization over plain recursion.\n",
        "Idea behind Dynamic programming: Breaking down an optimization problem into simpler sub-problems, and storing the solution to each sub-problem so that each sub-problem is only computed/solved once.\n",
        "It takes a lot of memory to store the calculated result of every sub-problem. More memory means more space complexity.\n",
        "\n"
      ],
      "metadata": {
        "id": "IJEkDFURQHFw"
      }
    },
    {
      "cell_type": "code",
      "source": [
        "#EXAMPLE( USE DYANMIC PROGRAMMING TO FIND THE FIBBONACCI SERIES OF NTH NUMBER)\n",
        "def fibbd(n):\n",
        "  f=[0,1]  #store the first two base condition elements in a list (0,1)\n",
        "  for i in range(2,n+1):\n",
        "    f.append(fibbd(n-1)+(fibbd(n-2))) #appends the values to the list\n",
        "  return f[n]\n",
        "#main block\n",
        "print(fibbd(4))\n"
      ],
      "metadata": {
        "colab": {
          "base_uri": "https://localhost:8080/"
        },
        "id": "cS_i7Kv7QkpA",
        "outputId": "fe5dfea6-9dd5-4011-9902-14d076a72a57"
      },
      "execution_count": 5,
      "outputs": [
        {
          "output_type": "stream",
          "name": "stdout",
          "text": [
            "3\n"
          ]
        }
      ]
    },
    {
      "cell_type": "markdown",
      "source": [
        "Memoization is the technique in which previously calculated values are stored, so that, these values can be used to solve other subproblems."
      ],
      "metadata": {
        "id": "uuacd1poSUSj"
      }
    },
    {
      "cell_type": "code",
      "source": [
        ""
      ],
      "metadata": {
        "id": "aOWlaMTVSV7U"
      },
      "execution_count": null,
      "outputs": []
    },
    {
      "cell_type": "markdown",
      "source": [
        ""
      ],
      "metadata": {
        "id": "IR_sUpk3QZgs"
      }
    }
  ]
}